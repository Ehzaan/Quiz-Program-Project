{
 "cells": [
  {
   "cell_type": "code",
   "execution_count": 2,
   "id": "6eaad071",
   "metadata": {},
   "outputs": [
    {
     "name": "stdout",
     "output_type": "stream",
     "text": [
      "lets play a game\n",
      "do you wanna play? yes\n",
      "what is the abbrevation of CPU? central processing unit\n",
      "Correct!!!\n",
      "what is the abbrevation of RAM? random access memory\n",
      "Correct!!!\n",
      "who invented Computer? charles babbage\n",
      "Correct!!!\n",
      "which was the first search engine? archie\n",
      "Correct!!!\n",
      "who invented pythonvan rossum\n",
      "Correct!!!\n",
      "you got 5 correct answers out of 5\n"
     ]
    }
   ],
   "source": [
    "print(\"lets play a game\")\n",
    "start = input(\"do you wanna play? \")\n",
    "points = 0\n",
    "if start.upper() == \"YES\":\n",
    "    Question_1 = input(\"what is the abbrevation of CPU? \")\n",
    "    if Question_1.lower() == \"central processing unit\":\n",
    "        print(\"Correct!!!\")\n",
    "        points = points +1\n",
    "    else:\n",
    "        print(\"Incorrect\")\n",
    "    Question_2 = input(\"what is the abbrevation of RAM? \")\n",
    "    if Question_2.lower() == \"random access memory\":\n",
    "        print(\"Correct!!!\")\n",
    "        points = points +1\n",
    "    else:\n",
    "        print(\"Incorrect\")\n",
    "    Question_3 = input(\"who invented Computer? \")\n",
    "    if Question_3.lower() == \"charles babbage\":\n",
    "        print(\"Correct!!!\")\n",
    "        points = points +1\n",
    "    else:\n",
    "        print(\"Incorrect\")\n",
    "    Question_4 = input(\"which was the first search engine? \")\n",
    "    if Question_4.lower() == \"archie\":\n",
    "        print(\"Correct!!!\")\n",
    "        points = points +1\n",
    "    else:\n",
    "        print(\"Incorrect\")\n",
    "    Question_5 = input(\"who invented python\")\n",
    "    if Question_5.lower() == \"van rossum\":\n",
    "        print(\"Correct!!!\")\n",
    "        points = points +1\n",
    "    else:\n",
    "        print(\"Incorrect\")\n",
    "else:\n",
    "    print(\"okay goodbye!!!\")\n",
    "print(\"you got {} correct answers out of 5\".format(points))\n",
    "    \n"
   ]
  }
 ],
 "metadata": {
  "kernelspec": {
   "display_name": "Python 3 (ipykernel)",
   "language": "python",
   "name": "python3"
  },
  "language_info": {
   "codemirror_mode": {
    "name": "ipython",
    "version": 3
   },
   "file_extension": ".py",
   "mimetype": "text/x-python",
   "name": "python",
   "nbconvert_exporter": "python",
   "pygments_lexer": "ipython3",
   "version": "3.11.5"
  }
 },
 "nbformat": 4,
 "nbformat_minor": 5
}
